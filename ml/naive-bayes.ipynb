{
 "cells": [
  {
   "cell_type": "markdown",
   "metadata": {},
   "source": [
    "# Naive Bayes"
   ]
  },
  {
   "cell_type": "code",
   "execution_count": 1,
   "metadata": {
    "collapsed": true
   },
   "outputs": [],
   "source": [
    "import numpy as np\n",
    "from sklearn.base import BaseEstimator, ClassifierMixin\n",
    "from sklearn.datasets import load_iris\n",
    "from sklearn.model_selection import cross_val_score"
   ]
  },
  {
   "cell_type": "code",
   "execution_count": 2,
   "metadata": {},
   "outputs": [],
   "source": [
    "# Loading a dataset\n",
    "X, y = load_iris(return_X_y=True)"
   ]
  },
  {
   "cell_type": "markdown",
   "metadata": {},
   "source": [
    "A naive Bayes classifier tries to model $p(y | x)$ by making the naive assumption that all features are independent. With Bayes' theorem we can rewrite the distribution over classes as\n",
    "\n",
    "$$p(y | x) = \\frac{p(x | y) p(y)}{p(x)}$$\n",
    "\n",
    "where $p(x | y)$ can be factorized as $\\prod_i p(x_i | y, x_1, \\dots, x_{i - 1})$. The independence assumption simplifies this expression to $\\prod_i p(x_i | y)$. So for categorical $y$ we can fit a a naive Bayes model by using the proportions of classes in the training data as the prior $p(y)$ and fitting a model $p(x_i | y)$ to each feature for each class. This can most definitely be derived by the maximum likelihood principle.\n",
    "\n",
    "In our case all features are real numbers, so we model them with $n$ independent Gaussian distributions or alternatively a single $n$-dimensional Gaussian with diagonal covariance matrix."
   ]
  },
  {
   "cell_type": "code",
   "execution_count": 3,
   "metadata": {},
   "outputs": [],
   "source": [
    "class GaussianNaiveBayes(BaseEstimator, ClassifierMixin):\n",
    "    def fit(self, X, y):\n",
    "        n, m = X.shape\n",
    "        self.classes_, y, self.prior_ = np.unique(y, return_inverse=True, return_counts=True)\n",
    "        self.prior_ = self.prior_ / self.prior_.sum()\n",
    "        \n",
    "        N = len(self.classes_)\n",
    "        self.mu_ = np.empty((N, m))\n",
    "        self.sigma2_ = np.empty((N, m))\n",
    "        \n",
    "        for i in range(N):\n",
    "            self.mu_[i] = X[y == i].mean(axis=0)\n",
    "            self.sigma2_[i] = X[y == i].var(axis=0)\n",
    "            \n",
    "    def predict(self, X):\n",
    "        p = self.predict_proba(X)\n",
    "        \n",
    "        return self.classes_[np.argmax(p, axis=1)]\n",
    "    \n",
    "    def predict_proba(self, X):\n",
    "        N = len(self.classes_)\n",
    "        m = self.mu_.shape[-1]\n",
    "        p = np.empty((len(X), N))\n",
    "        \n",
    "        for i in range(N):\n",
    "            p[:, i] = self.prior_[i] * np.exp(-1/2 * ((X - self.mu_[i])**2 / self.sigma2_[i]).sum(axis=1)) / np.sqrt((2 * np.pi)**m * np.prod(self.sigma2_[i]))\n",
    "            \n",
    "        p = p / p.sum(axis=1, keepdims=True)\n",
    "        \n",
    "        return p"
   ]
  },
  {
   "cell_type": "code",
   "execution_count": 4,
   "metadata": {},
   "outputs": [
    {
     "data": {
      "text/plain": [
       "0.93423202614379086"
      ]
     },
     "execution_count": 4,
     "metadata": {},
     "output_type": "execute_result"
    }
   ],
   "source": [
    "cross_val_score(GaussianNaiveBayes(), X, y).mean()"
   ]
  }
 ],
 "metadata": {
  "kernelspec": {
   "display_name": "Python 3",
   "language": "python",
   "name": "python3"
  },
  "language_info": {
   "codemirror_mode": {
    "name": "ipython",
    "version": 3
   },
   "file_extension": ".py",
   "mimetype": "text/x-python",
   "name": "python",
   "nbconvert_exporter": "python",
   "pygments_lexer": "ipython3",
   "version": "3.6.2"
  }
 },
 "nbformat": 4,
 "nbformat_minor": 2
}
