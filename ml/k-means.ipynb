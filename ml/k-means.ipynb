{
 "cells": [
  {
   "cell_type": "markdown",
   "metadata": {},
   "source": [
    "# k-Means"
   ]
  },
  {
   "cell_type": "code",
   "execution_count": 1,
   "metadata": {
    "collapsed": true
   },
   "outputs": [],
   "source": [
    "import matplotlib.pyplot as pp\n",
    "import numpy as np\n",
    "from sklearn.base import BaseEstimator, ClusterMixin\n",
    "from sklearn.datasets import fetch_mldata\n",
    "from sklearn.model_selection import cross_val_score\n",
    "\n",
    "%matplotlib inline"
   ]
  },
  {
   "cell_type": "code",
   "execution_count": 2,
   "metadata": {},
   "outputs": [],
   "source": [
    "data = fetch_mldata(\"MNIST original\")\n",
    "X, y = data.data, data.target"
   ]
  },
  {
   "cell_type": "markdown",
   "metadata": {},
   "source": [
    "In k-means we try to divide the data into $k$ clusters by picking $k$ cluster centers and assigning each datapoint to the closest one, recomputing the cluster centers and iterating until convergence. This is an approximation to finding $k$ cluster centers such that the total squared distance of all points to their respective center is minimized.\n",
    "\n",
    "$$\\min \\sum_{i = 1}^n ||x_i - \\mu_{n_i}||^2$$\n",
    "\n",
    "where $n_i$ is the cluster that $x_i$ is assigned to."
   ]
  },
  {
   "cell_type": "code",
   "execution_count": 3,
   "metadata": {},
   "outputs": [],
   "source": [
    "class KMeansClustering(BaseEstimator, ClusterMixin):\n",
    "    def __init__(self, k=1):\n",
    "        self.k = k\n",
    "        \n",
    "    def fit(self, X, y=None, verbose=False):\n",
    "        k = self.k\n",
    "        n, m = X.shape\n",
    "        mu = np.empty((k, m))\n",
    "        \n",
    "        # k-means++ initialization\n",
    "        mu[0] = X[np.random.randint(len(X))]\n",
    "        \n",
    "        # Squared distance to already initialized cluster centers\n",
    "        D = np.empty((n, k))\n",
    "        D[:, 0] = np.sum((X - mu[0])**2, axis=1)\n",
    "        \n",
    "        for i in range(1, k):\n",
    "            # Build a probability distribution over data points proportional\n",
    "            # to the minimal squared distance to any previous center\n",
    "            p = D[:, :i].min(axis=1)\n",
    "            p = p / p.sum()\n",
    "\n",
    "            mu[i] = X[np.random.choice(len(X), p=p)]\n",
    "            \n",
    "            D[:, i] = np.sum((X - mu[i])**2, axis=1)\n",
    "        \n",
    "        # k-means iterations\n",
    "        mu_prev = mu.copy()\n",
    "        while True:\n",
    "            for i in range(k):\n",
    "                D[:, i] = np.sum((X - mu[i])**2, axis=1)\n",
    "                \n",
    "            labels = D.argmin(axis=1)\n",
    "            \n",
    "            for i in range(k):\n",
    "                mu[i] = X[labels == i].mean(axis=0)\n",
    "            \n",
    "            progress = np.linalg.norm(mu - mu_prev)\n",
    "            if verbose:\n",
    "                print(f\"Progress: {progress}\")\n",
    "            if progress < 10**-8:\n",
    "                break\n",
    "            \n",
    "            mu_prev = mu.copy()\n",
    "\n",
    "        self.mu_ = mu\n",
    "        self.labels_ = labels"
   ]
  },
  {
   "cell_type": "code",
   "execution_count": 4,
   "metadata": {},
   "outputs": [
    {
     "name": "stdout",
     "output_type": "stream",
     "text": [
      "Progress: 4076.2984743166453\n",
      "Progress: 669.9248662097294\n",
      "Progress: 436.58668494000136\n",
      "Progress: 287.775590626561\n",
      "Progress: 196.3654828527923\n",
      "Progress: 142.21551612303128\n",
      "Progress: 114.51973542155044\n",
      "Progress: 99.37556212604713\n",
      "Progress: 92.2278709164223\n",
      "Progress: 83.70525345055304\n",
      "Progress: 79.50312264501275\n",
      "Progress: 79.30427089287504\n",
      "Progress: 88.37593892640501\n",
      "Progress: 95.67698065662468\n",
      "Progress: 112.26807487957241\n",
      "Progress: 119.88936904538956\n",
      "Progress: 109.26293865107242\n",
      "Progress: 100.97432919297384\n",
      "Progress: 91.95921004582463\n",
      "Progress: 79.71365252804456\n",
      "Progress: 66.74055467329666\n",
      "Progress: 58.38862204694047\n",
      "Progress: 52.92601549978563\n",
      "Progress: 47.045140286557945\n",
      "Progress: 40.7931308937067\n",
      "Progress: 37.62667064459938\n",
      "Progress: 35.36949498127841\n",
      "Progress: 33.374012735127685\n",
      "Progress: 31.30543109468692\n",
      "Progress: 26.25583556247904\n",
      "Progress: 24.19197629633389\n",
      "Progress: 19.43699711479696\n",
      "Progress: 17.514350521761898\n",
      "Progress: 16.07619756723192\n",
      "Progress: 15.67001608408388\n",
      "Progress: 15.10658322479637\n",
      "Progress: 12.279650108764523\n",
      "Progress: 11.551510003219516\n",
      "Progress: 9.507883551754393\n",
      "Progress: 9.752103793416943\n",
      "Progress: 9.111428462775947\n",
      "Progress: 6.512858203886655\n",
      "Progress: 6.277630940979126\n",
      "Progress: 6.809508867974827\n",
      "Progress: 6.182578976997217\n",
      "Progress: 5.404267819933004\n",
      "Progress: 5.586866165233451\n",
      "Progress: 4.982365900003136\n",
      "Progress: 4.758703986573927\n",
      "Progress: 5.024506115526101\n",
      "Progress: 5.975520695926745\n",
      "Progress: 5.329744380047468\n",
      "Progress: 4.5019275659935865\n",
      "Progress: 4.6387113160891165\n",
      "Progress: 5.0971795060588825\n",
      "Progress: 5.176435985894443\n",
      "Progress: 6.894640988443959\n",
      "Progress: 7.585899321501918\n",
      "Progress: 7.650029212050484\n",
      "Progress: 8.123671994210069\n",
      "Progress: 7.651334336065118\n",
      "Progress: 7.898507857438643\n",
      "Progress: 8.25492640440515\n",
      "Progress: 8.204292466958668\n",
      "Progress: 6.926906366270872\n",
      "Progress: 6.93409114820224\n",
      "Progress: 6.199830971792531\n",
      "Progress: 6.101383886419954\n",
      "Progress: 5.205919297319742\n",
      "Progress: 4.625387317777988\n",
      "Progress: 3.669527029361612\n",
      "Progress: 3.849197019896079\n",
      "Progress: 3.476491859505365\n",
      "Progress: 3.504194577804602\n",
      "Progress: 3.3695084831937665\n",
      "Progress: 3.338570277800419\n",
      "Progress: 4.092319825224008\n",
      "Progress: 4.0496108453324755\n",
      "Progress: 6.000287416474106\n",
      "Progress: 4.6557872273996574\n",
      "Progress: 4.295148729636429\n",
      "Progress: 3.9844905731132454\n",
      "Progress: 4.266479343221541\n",
      "Progress: 3.2395278047711904\n",
      "Progress: 4.862395267602112\n",
      "Progress: 3.8547976341559256\n",
      "Progress: 4.457195100961241\n",
      "Progress: 2.8791838396932565\n",
      "Progress: 3.6316770818721005\n",
      "Progress: 4.252960135316098\n",
      "Progress: 3.9101701633488153\n",
      "Progress: 4.387975191304857\n",
      "Progress: 3.2067758597240585\n",
      "Progress: 3.620161693110076\n",
      "Progress: 4.346966896817276\n",
      "Progress: 3.568930852807091\n",
      "Progress: 3.5109797611781555\n",
      "Progress: 3.360815689551896\n",
      "Progress: 3.236556131704874\n",
      "Progress: 2.3397743335804826\n",
      "Progress: 2.223738787153286\n",
      "Progress: 3.1459571885925532\n",
      "Progress: 2.7332297621409913\n",
      "Progress: 2.526844006528961\n",
      "Progress: 1.8200760477481437\n",
      "Progress: 1.7568178031224508\n",
      "Progress: 1.4110958000411349\n",
      "Progress: 1.1750211081668696\n",
      "Progress: 1.2389220687297817\n",
      "Progress: 1.3172184584390114\n",
      "Progress: 0.8110219970148759\n",
      "Progress: 0.5062978879642296\n",
      "Progress: 0.3223911721020125\n",
      "Progress: 0.286112895475608\n",
      "Progress: 0.0\n"
     ]
    }
   ],
   "source": [
    "m = KMeansClustering(10)\n",
    "m.fit(X, verbose=True)"
   ]
  },
  {
   "cell_type": "code",
   "execution_count": 5,
   "metadata": {},
   "outputs": [
    {
     "data": {
      "image/png": "[encoded data removed]",
      "text/plain": [
       "<matplotlib.figure.Figure at 0x7f86d9a46a20>"
      ]
     },
     "metadata": {},
     "output_type": "display_data"
    }
   ],
   "source": [
    "fig, ax = pp.subplots(2, 5, dpi=200)\n",
    "ax = [b for a in ax for b in a]\n",
    "\n",
    "for i in range(len(m.mu_)):\n",
    "    ax[i].imshow(m.mu_[i].reshape((28, 28)))"
   ]
  }
 ],
 "metadata": {
  "kernelspec": {
   "display_name": "Python 3",
   "language": "python",
   "name": "python3"
  },
  "language_info": {
   "codemirror_mode": {
    "name": "ipython",
    "version": 3
   },
   "file_extension": ".py",
   "mimetype": "text/x-python",
   "name": "python",
   "nbconvert_exporter": "python",
   "pygments_lexer": "ipython3",
   "version": "3.6.2"
  }
 },
 "nbformat": 4,
 "nbformat_minor": 2
}
